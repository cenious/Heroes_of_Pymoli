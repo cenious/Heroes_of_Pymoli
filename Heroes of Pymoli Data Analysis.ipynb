{
 "cells": [
  {
   "cell_type": "markdown",
   "metadata": {},
   "source": [
    "# Heroes of Pymoli Data Analysis\n",
    "\n",
    "  \n",
    "-  The majority of purchases are bought by people aged 15-24, who make up nearly 50% of the player base. However,they do not have the highest purchasing value. This may be explained by their purchasing style of buying more of the elss expensive items. \n",
    "\n",
    "\n",
    "-  Males make, by a large margin, the main gender to play the game. However, males only spend, on average, $0.19 more than females on the game. People who are non-binary or chose to not disclose their gender in this analysis spend, on average, the most.\n",
    "\n",
    "\n",
    " \n",
    "-  Though the average price of all items is around $2.93, all age groups excepting players over 40, spent above this average. If the purchasing goal was set at this average, as in, everyone on average would buy one item from the store, this data shows we have met this goal. \n"
   ]
  },
  {
   "cell_type": "code",
   "execution_count": null,
   "metadata": {},
   "outputs": [],
   "source": []
  },
  {
   "cell_type": "code",
   "execution_count": null,
   "metadata": {},
   "outputs": [],
   "source": []
  },
  {
   "cell_type": "code",
   "execution_count": null,
   "metadata": {},
   "outputs": [],
   "source": []
  }
 ],
 "metadata": {
  "kernelspec": {
   "display_name": "Python 3",
   "language": "python",
   "name": "python3"
  },
  "language_info": {
   "codemirror_mode": {
    "name": "ipython",
    "version": 3
   },
   "file_extension": ".py",
   "mimetype": "text/x-python",
   "name": "python",
   "nbconvert_exporter": "python",
   "pygments_lexer": "ipython3",
   "version": "3.7.0"
  }
 },
 "nbformat": 4,
 "nbformat_minor": 2
}
